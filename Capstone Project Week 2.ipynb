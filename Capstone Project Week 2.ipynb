{
 "cells": [
  {
   "cell_type": "markdown",
   "metadata": {},
   "source": [
    "# Capstone Project - Week 2"
   ]
  },
  {
   "cell_type": "markdown",
   "metadata": {},
   "source": [
    "A description of the problem and a discussion of the background. (15 marks)"
   ]
  },
  {
   "cell_type": "markdown",
   "metadata": {},
   "source": [
    "Have you ever been stuck in traffic or even had an accident because of the weather, road conditions, etc.? Do you want someone to give you some advice before you drive off, based on which you can adjust or replan your trip? If your answer is yes, then this program can help you.
I will be working on a scenario which is to predict the severity of an accident. In this project, a model could warn people, given the weather and the road conditions about the possibility of people getting into a car accident and how severe it would be, so that people would drive more carefully or even change their travel if people are able to.
The project will predict the impact of various conditions on the severity of traffic accidents. These conditions include: weather, road conditions, date, etc. This includes all types of collisions. Collisions will display at the intersection or mid-block of a segment. Timeframe: 2004 to Present. In this project, I will try to use the methodology of Data analysis: Business Understanding, Data Understanding, Data Preparation, Modelling, Evaluation, Deployment. The existing data provides a table with 37 columns and 194673 rows. First of all, I will understand the background of the project and determine the project tasks. On this basis, understand the meaning of each field in the dataset, and whether it can be used for this project, etc. Then, the data will be cleaned and prepared. Model using machine learning methods. Use the data to evaluate the effectiveness of the model and adjust accordingly. Finally, deploy, generate data reports, and try to visualize the results. The process is not sequential and may require iteration or return to the beginning steps to find answers and help during the process execution."
   ]
  },
  {
   "cell_type": "markdown",
   "metadata": {},
   "source": [
    "A description of the data and how it will be used to solve the problem. (15 marks)"
   ]
  },
  {
   "cell_type": "markdown",
   "metadata": {},
   "source": [
    "\n",
    "The available data provides a table with 37 columns and 194,673 rows. This table is in CSV format. First, I will convert this data to Python Dataframe, then I will clean the data: missing data will be processed; Adjust the data type; Data normalization. Using numeric method to display the categorical data; Dummy variables. The pre-processed data is then modelled using machine learning methods. Of course, in the process of modelling, it may be necessary to go back to the previous step for pre-processing of the data again. I will use some of the data for machine learning and the rest to test the validity of the model data.\n"
   ]
  },
  {
   "cell_type": "code",
   "execution_count": null,
   "metadata": {},
   "outputs": [],
   "source": []
  }
 ],
 "metadata": {
  "kernelspec": {
   "display_name": "Python 3",
   "language": "python",
   "name": "python3"
  },
  "language_info": {
   "codemirror_mode": {
    "name": "ipython",
    "version": 3
   },
   "file_extension": ".py",
   "mimetype": "text/x-python",
   "name": "python",
   "nbconvert_exporter": "python",
   "pygments_lexer": "ipython3",
   "version": "3.6.10"
  }
 },
 "nbformat": 4,
 "nbformat_minor": 4
}
